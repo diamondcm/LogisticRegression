{
 "cells": [
  {
   "cell_type": "markdown",
   "metadata": {},
   "source": [
    "\n"
   ]
  },
  {
   "cell_type": "code",
   "execution_count": 1,
   "metadata": {},
   "outputs": [],
   "source": [
    "# 首先 import 必要的模块\n",
    "import pandas as pd \n",
    "import numpy as np\n",
    "\n",
    "from sklearn.model_selection import GridSearchCV\n",
    "\n",
    "from sklearn import metrics\n",
    "\n",
    "# 选择评价指标为accuracy，毕竟只有0或1\n",
    "#SVM并不能直接输出各类的概率，所以在这个例子中我们用正确率作为模型预测性能的度量\n",
    "from sklearn.metrics import accuracy_score\n",
    "\n",
    "from matplotlib import pyplot\n",
    "import seaborn as sns\n",
    "%matplotlib inline"
   ]
  },
  {
   "cell_type": "markdown",
   "metadata": {},
   "source": [
    "## 读取数据 & 数据探索"
   ]
  },
  {
   "cell_type": "code",
   "execution_count": 2,
   "metadata": {
    "scrolled": true
   },
   "outputs": [],
   "source": [
    "# 读取数据\n",
    "# path to where the data lies\n",
    "dpath = ''\n",
    "# './data/'\n",
    "data = pd.read_csv(dpath +\"diabetes.csv\")\n",
    "data.head()\n",
    "data_row =len(data)"
   ]
  },
  {
   "cell_type": "code",
   "execution_count": 3,
   "metadata": {
    "scrolled": true
   },
   "outputs": [],
   "source": [
    "#train.info()"
   ]
  },
  {
   "cell_type": "code",
   "execution_count": 4,
   "metadata": {
    "scrolled": true
   },
   "outputs": [
    {
     "data": {
      "text/html": [
       "<div>\n",
       "<style scoped>\n",
       "    .dataframe tbody tr th:only-of-type {\n",
       "        vertical-align: middle;\n",
       "    }\n",
       "\n",
       "    .dataframe tbody tr th {\n",
       "        vertical-align: top;\n",
       "    }\n",
       "\n",
       "    .dataframe thead th {\n",
       "        text-align: right;\n",
       "    }\n",
       "</style>\n",
       "<table border=\"1\" class=\"dataframe\">\n",
       "  <thead>\n",
       "    <tr style=\"text-align: right;\">\n",
       "      <th></th>\n",
       "      <th>Pregnancies</th>\n",
       "      <th>Glucose</th>\n",
       "      <th>BloodPressure</th>\n",
       "      <th>SkinThickness</th>\n",
       "      <th>Insulin</th>\n",
       "      <th>BMI</th>\n",
       "      <th>DiabetesPedigreeFunction</th>\n",
       "      <th>Age</th>\n",
       "      <th>Outcome</th>\n",
       "    </tr>\n",
       "  </thead>\n",
       "  <tbody>\n",
       "    <tr>\n",
       "      <th>count</th>\n",
       "      <td>768.000000</td>\n",
       "      <td>768.000000</td>\n",
       "      <td>768.000000</td>\n",
       "      <td>768.000000</td>\n",
       "      <td>768.000000</td>\n",
       "      <td>768.000000</td>\n",
       "      <td>768.000000</td>\n",
       "      <td>768.000000</td>\n",
       "      <td>768.000000</td>\n",
       "    </tr>\n",
       "    <tr>\n",
       "      <th>mean</th>\n",
       "      <td>3.845052</td>\n",
       "      <td>120.894531</td>\n",
       "      <td>69.105469</td>\n",
       "      <td>20.536458</td>\n",
       "      <td>79.799479</td>\n",
       "      <td>31.992578</td>\n",
       "      <td>0.471876</td>\n",
       "      <td>33.240885</td>\n",
       "      <td>0.348958</td>\n",
       "    </tr>\n",
       "    <tr>\n",
       "      <th>std</th>\n",
       "      <td>3.369578</td>\n",
       "      <td>31.972618</td>\n",
       "      <td>19.355807</td>\n",
       "      <td>15.952218</td>\n",
       "      <td>115.244002</td>\n",
       "      <td>7.884160</td>\n",
       "      <td>0.331329</td>\n",
       "      <td>11.760232</td>\n",
       "      <td>0.476951</td>\n",
       "    </tr>\n",
       "    <tr>\n",
       "      <th>min</th>\n",
       "      <td>0.000000</td>\n",
       "      <td>0.000000</td>\n",
       "      <td>0.000000</td>\n",
       "      <td>0.000000</td>\n",
       "      <td>0.000000</td>\n",
       "      <td>0.000000</td>\n",
       "      <td>0.078000</td>\n",
       "      <td>21.000000</td>\n",
       "      <td>0.000000</td>\n",
       "    </tr>\n",
       "    <tr>\n",
       "      <th>25%</th>\n",
       "      <td>1.000000</td>\n",
       "      <td>99.000000</td>\n",
       "      <td>62.000000</td>\n",
       "      <td>0.000000</td>\n",
       "      <td>0.000000</td>\n",
       "      <td>27.300000</td>\n",
       "      <td>0.243750</td>\n",
       "      <td>24.000000</td>\n",
       "      <td>0.000000</td>\n",
       "    </tr>\n",
       "    <tr>\n",
       "      <th>50%</th>\n",
       "      <td>3.000000</td>\n",
       "      <td>117.000000</td>\n",
       "      <td>72.000000</td>\n",
       "      <td>23.000000</td>\n",
       "      <td>30.500000</td>\n",
       "      <td>32.000000</td>\n",
       "      <td>0.372500</td>\n",
       "      <td>29.000000</td>\n",
       "      <td>0.000000</td>\n",
       "    </tr>\n",
       "    <tr>\n",
       "      <th>75%</th>\n",
       "      <td>6.000000</td>\n",
       "      <td>140.250000</td>\n",
       "      <td>80.000000</td>\n",
       "      <td>32.000000</td>\n",
       "      <td>127.250000</td>\n",
       "      <td>36.600000</td>\n",
       "      <td>0.626250</td>\n",
       "      <td>41.000000</td>\n",
       "      <td>1.000000</td>\n",
       "    </tr>\n",
       "    <tr>\n",
       "      <th>max</th>\n",
       "      <td>17.000000</td>\n",
       "      <td>199.000000</td>\n",
       "      <td>122.000000</td>\n",
       "      <td>99.000000</td>\n",
       "      <td>846.000000</td>\n",
       "      <td>67.100000</td>\n",
       "      <td>2.420000</td>\n",
       "      <td>81.000000</td>\n",
       "      <td>1.000000</td>\n",
       "    </tr>\n",
       "  </tbody>\n",
       "</table>\n",
       "</div>"
      ],
      "text/plain": [
       "       Pregnancies     Glucose  BloodPressure  SkinThickness     Insulin  \\\n",
       "count   768.000000  768.000000     768.000000     768.000000  768.000000   \n",
       "mean      3.845052  120.894531      69.105469      20.536458   79.799479   \n",
       "std       3.369578   31.972618      19.355807      15.952218  115.244002   \n",
       "min       0.000000    0.000000       0.000000       0.000000    0.000000   \n",
       "25%       1.000000   99.000000      62.000000       0.000000    0.000000   \n",
       "50%       3.000000  117.000000      72.000000      23.000000   30.500000   \n",
       "75%       6.000000  140.250000      80.000000      32.000000  127.250000   \n",
       "max      17.000000  199.000000     122.000000      99.000000  846.000000   \n",
       "\n",
       "              BMI  DiabetesPedigreeFunction         Age     Outcome  \n",
       "count  768.000000                768.000000  768.000000  768.000000  \n",
       "mean    31.992578                  0.471876   33.240885    0.348958  \n",
       "std      7.884160                  0.331329   11.760232    0.476951  \n",
       "min      0.000000                  0.078000   21.000000    0.000000  \n",
       "25%     27.300000                  0.243750   24.000000    0.000000  \n",
       "50%     32.000000                  0.372500   29.000000    0.000000  \n",
       "75%     36.600000                  0.626250   41.000000    1.000000  \n",
       "max     67.100000                  2.420000   81.000000    1.000000  "
      ]
     },
     "execution_count": 4,
     "metadata": {},
     "output_type": "execute_result"
    }
   ],
   "source": [
    "## 各属性的统计特性\n",
    "data.describe()"
   ]
  },
  {
   "cell_type": "markdown",
   "metadata": {},
   "source": [
    "## Glu, BloodPressure, skin, insulin bmi中有0值。从特征定义来看，0为缺少数据，且非正常含义需要进行数据补足分别尝试用mean和众数来补足"
   ]
  },
  {
   "cell_type": "code",
   "execution_count": 5,
   "metadata": {},
   "outputs": [
    {
     "data": {
      "text/html": [
       "<div>\n",
       "<style scoped>\n",
       "    .dataframe tbody tr th:only-of-type {\n",
       "        vertical-align: middle;\n",
       "    }\n",
       "\n",
       "    .dataframe tbody tr th {\n",
       "        vertical-align: top;\n",
       "    }\n",
       "\n",
       "    .dataframe thead th {\n",
       "        text-align: right;\n",
       "    }\n",
       "</style>\n",
       "<table border=\"1\" class=\"dataframe\">\n",
       "  <thead>\n",
       "    <tr style=\"text-align: right;\">\n",
       "      <th></th>\n",
       "      <th>Pregnancies</th>\n",
       "      <th>Glucose</th>\n",
       "      <th>BloodPressure</th>\n",
       "      <th>SkinThickness</th>\n",
       "      <th>Insulin</th>\n",
       "      <th>BMI</th>\n",
       "      <th>DiabetesPedigreeFunction</th>\n",
       "      <th>Age</th>\n",
       "      <th>Outcome</th>\n",
       "    </tr>\n",
       "  </thead>\n",
       "  <tbody>\n",
       "    <tr>\n",
       "      <th>0</th>\n",
       "      <td>1.0</td>\n",
       "      <td>99</td>\n",
       "      <td>70.0</td>\n",
       "      <td>0.0</td>\n",
       "      <td>0.0</td>\n",
       "      <td>32.0</td>\n",
       "      <td>0.254</td>\n",
       "      <td>22.0</td>\n",
       "      <td>0.0</td>\n",
       "    </tr>\n",
       "    <tr>\n",
       "      <th>1</th>\n",
       "      <td>NaN</td>\n",
       "      <td>100</td>\n",
       "      <td>NaN</td>\n",
       "      <td>NaN</td>\n",
       "      <td>NaN</td>\n",
       "      <td>NaN</td>\n",
       "      <td>0.258</td>\n",
       "      <td>NaN</td>\n",
       "      <td>NaN</td>\n",
       "    </tr>\n",
       "  </tbody>\n",
       "</table>\n",
       "</div>"
      ],
      "text/plain": [
       "   Pregnancies  Glucose  BloodPressure  SkinThickness  Insulin   BMI  \\\n",
       "0          1.0       99           70.0            0.0      0.0  32.0   \n",
       "1          NaN      100            NaN            NaN      NaN   NaN   \n",
       "\n",
       "   DiabetesPedigreeFunction   Age  Outcome  \n",
       "0                     0.254  22.0      0.0  \n",
       "1                     0.258   NaN      NaN  "
      ]
     },
     "execution_count": 5,
     "metadata": {},
     "output_type": "execute_result"
    }
   ],
   "source": [
    "data.mode()"
   ]
  },
  {
   "cell_type": "code",
   "execution_count": 6,
   "metadata": {},
   "outputs": [
    {
     "data": {
      "text/plain": [
       "Pregnancies                   3.845052\n",
       "Glucose                     120.894531\n",
       "BloodPressure                69.105469\n",
       "SkinThickness                20.536458\n",
       "Insulin                      79.799479\n",
       "BMI                          31.992578\n",
       "DiabetesPedigreeFunction      0.471876\n",
       "Age                          33.240885\n",
       "Outcome                       0.348958\n",
       "dtype: float64"
      ]
     },
     "execution_count": 6,
     "metadata": {},
     "output_type": "execute_result"
    }
   ],
   "source": [
    "data.mean()"
   ]
  },
  {
   "cell_type": "markdown",
   "metadata": {},
   "source": [
    "## glu使用均值。blood使用众数。skin使用均值，众数为0。Insulin使用均值，众数为0。BMI均值和众数相近，使用众数。"
   ]
  },
  {
   "cell_type": "code",
   "execution_count": 7,
   "metadata": {},
   "outputs": [
    {
     "data": {
      "text/html": [
       "<div>\n",
       "<style scoped>\n",
       "    .dataframe tbody tr th:only-of-type {\n",
       "        vertical-align: middle;\n",
       "    }\n",
       "\n",
       "    .dataframe tbody tr th {\n",
       "        vertical-align: top;\n",
       "    }\n",
       "\n",
       "    .dataframe thead th {\n",
       "        text-align: right;\n",
       "    }\n",
       "</style>\n",
       "<table border=\"1\" class=\"dataframe\">\n",
       "  <thead>\n",
       "    <tr style=\"text-align: right;\">\n",
       "      <th></th>\n",
       "      <th>Pregnancies</th>\n",
       "      <th>Glucose</th>\n",
       "      <th>BloodPressure</th>\n",
       "      <th>SkinThickness</th>\n",
       "      <th>Insulin</th>\n",
       "      <th>BMI</th>\n",
       "      <th>DiabetesPedigreeFunction</th>\n",
       "      <th>Age</th>\n",
       "      <th>Outcome</th>\n",
       "    </tr>\n",
       "  </thead>\n",
       "  <tbody>\n",
       "    <tr>\n",
       "      <th>count</th>\n",
       "      <td>768.000000</td>\n",
       "      <td>768.000000</td>\n",
       "      <td>768.000000</td>\n",
       "      <td>768.000000</td>\n",
       "      <td>768.000000</td>\n",
       "      <td>768.000000</td>\n",
       "      <td>768.000000</td>\n",
       "      <td>768.000000</td>\n",
       "      <td>768.000000</td>\n",
       "    </tr>\n",
       "    <tr>\n",
       "      <th>mean</th>\n",
       "      <td>3.845052</td>\n",
       "      <td>121.681605</td>\n",
       "      <td>72.295573</td>\n",
       "      <td>26.606479</td>\n",
       "      <td>118.660163</td>\n",
       "      <td>32.450911</td>\n",
       "      <td>0.471876</td>\n",
       "      <td>33.240885</td>\n",
       "      <td>0.348958</td>\n",
       "    </tr>\n",
       "    <tr>\n",
       "      <th>std</th>\n",
       "      <td>3.369578</td>\n",
       "      <td>30.436016</td>\n",
       "      <td>12.106756</td>\n",
       "      <td>9.631241</td>\n",
       "      <td>93.080358</td>\n",
       "      <td>6.875366</td>\n",
       "      <td>0.331329</td>\n",
       "      <td>11.760232</td>\n",
       "      <td>0.476951</td>\n",
       "    </tr>\n",
       "    <tr>\n",
       "      <th>min</th>\n",
       "      <td>0.000000</td>\n",
       "      <td>44.000000</td>\n",
       "      <td>24.000000</td>\n",
       "      <td>7.000000</td>\n",
       "      <td>14.000000</td>\n",
       "      <td>18.200000</td>\n",
       "      <td>0.078000</td>\n",
       "      <td>21.000000</td>\n",
       "      <td>0.000000</td>\n",
       "    </tr>\n",
       "    <tr>\n",
       "      <th>25%</th>\n",
       "      <td>1.000000</td>\n",
       "      <td>99.750000</td>\n",
       "      <td>64.000000</td>\n",
       "      <td>20.536458</td>\n",
       "      <td>79.799479</td>\n",
       "      <td>27.500000</td>\n",
       "      <td>0.243750</td>\n",
       "      <td>24.000000</td>\n",
       "      <td>0.000000</td>\n",
       "    </tr>\n",
       "    <tr>\n",
       "      <th>50%</th>\n",
       "      <td>3.000000</td>\n",
       "      <td>117.000000</td>\n",
       "      <td>72.000000</td>\n",
       "      <td>23.000000</td>\n",
       "      <td>79.799479</td>\n",
       "      <td>32.000000</td>\n",
       "      <td>0.372500</td>\n",
       "      <td>29.000000</td>\n",
       "      <td>0.000000</td>\n",
       "    </tr>\n",
       "    <tr>\n",
       "      <th>75%</th>\n",
       "      <td>6.000000</td>\n",
       "      <td>140.250000</td>\n",
       "      <td>80.000000</td>\n",
       "      <td>32.000000</td>\n",
       "      <td>127.250000</td>\n",
       "      <td>36.600000</td>\n",
       "      <td>0.626250</td>\n",
       "      <td>41.000000</td>\n",
       "      <td>1.000000</td>\n",
       "    </tr>\n",
       "    <tr>\n",
       "      <th>max</th>\n",
       "      <td>17.000000</td>\n",
       "      <td>199.000000</td>\n",
       "      <td>122.000000</td>\n",
       "      <td>99.000000</td>\n",
       "      <td>846.000000</td>\n",
       "      <td>67.100000</td>\n",
       "      <td>2.420000</td>\n",
       "      <td>81.000000</td>\n",
       "      <td>1.000000</td>\n",
       "    </tr>\n",
       "  </tbody>\n",
       "</table>\n",
       "</div>"
      ],
      "text/plain": [
       "       Pregnancies     Glucose  BloodPressure  SkinThickness     Insulin  \\\n",
       "count   768.000000  768.000000     768.000000     768.000000  768.000000   \n",
       "mean      3.845052  121.681605      72.295573      26.606479  118.660163   \n",
       "std       3.369578   30.436016      12.106756       9.631241   93.080358   \n",
       "min       0.000000   44.000000      24.000000       7.000000   14.000000   \n",
       "25%       1.000000   99.750000      64.000000      20.536458   79.799479   \n",
       "50%       3.000000  117.000000      72.000000      23.000000   79.799479   \n",
       "75%       6.000000  140.250000      80.000000      32.000000  127.250000   \n",
       "max      17.000000  199.000000     122.000000      99.000000  846.000000   \n",
       "\n",
       "              BMI  DiabetesPedigreeFunction         Age     Outcome  \n",
       "count  768.000000                768.000000  768.000000  768.000000  \n",
       "mean    32.450911                  0.471876   33.240885    0.348958  \n",
       "std      6.875366                  0.331329   11.760232    0.476951  \n",
       "min     18.200000                  0.078000   21.000000    0.000000  \n",
       "25%     27.500000                  0.243750   24.000000    0.000000  \n",
       "50%     32.000000                  0.372500   29.000000    0.000000  \n",
       "75%     36.600000                  0.626250   41.000000    1.000000  \n",
       "max     67.100000                  2.420000   81.000000    1.000000  "
      ]
     },
     "execution_count": 7,
     "metadata": {},
     "output_type": "execute_result"
    }
   ],
   "source": [
    "data['Glucose'] = data['Glucose'].where(data['Glucose']!=0.0, data.mean()['Glucose'])\n",
    "data['BloodPressure'] = data['BloodPressure'].where(data['BloodPressure']!=0.0, data.mode()['BloodPressure'][0])\n",
    "data['SkinThickness'] = data['SkinThickness'].where(data['SkinThickness']!=0.0, data.mean()['SkinThickness'])\n",
    "data['Insulin'] = data['Insulin'].where(data['Insulin']!=0.0, data.mean()['Insulin'])\n",
    "data['BMI'] = data['BMI'].where(data['BMI']!=0.0, data.mode()['BMI'][0])\n",
    "\n",
    "\n",
    "data.describe()"
   ]
  },
  {
   "cell_type": "code",
   "execution_count": 8,
   "metadata": {
    "scrolled": true
   },
   "outputs": [
    {
     "data": {
      "image/png": "[encoded data removed]",
      "text/plain": [
       "<Figure size 432x288 with 1 Axes>"
      ]
     },
     "metadata": {},
     "output_type": "display_data"
    }
   ],
   "source": [
    "# Target 分布，看看各类样本分布是否均衡\n",
    "sns.countplot(data.Outcome);\n",
    "pyplot.xlabel('Outcome');\n",
    "pyplot.ylabel('Number of diabetes');"
   ]
  },
  {
   "cell_type": "markdown",
   "metadata": {},
   "source": [
    "样本数量相差不是很多"
   ]
  },
  {
   "cell_type": "markdown",
   "metadata": {},
   "source": [
    "## 特征编码"
   ]
  },
  {
   "cell_type": "code",
   "execution_count": 9,
   "metadata": {},
   "outputs": [],
   "source": [
    "X_train = data.drop([\"Outcome\"], axis=1)\n",
    "y_train = data['Outcome']"
   ]
  },
  {
   "cell_type": "markdown",
   "metadata": {},
   "source": [
    "## 数据预处理"
   ]
  },
  {
   "cell_type": "code",
   "execution_count": 10,
   "metadata": {},
   "outputs": [],
   "source": [
    "# 数据标准化\n",
    "from sklearn.preprocessing import StandardScaler\n",
    "\n",
    "# 初始化特征的标准化器\n",
    "ss_X = StandardScaler()\n",
    "\n",
    "# 分别对训练和测试数据的特征进行标准化处理\n",
    "X_train = ss_X.fit_transform(X_train)\n",
    "\n",
    "\n"
   ]
  },
  {
   "cell_type": "markdown",
   "metadata": {},
   "source": [
    "## 模型训练 default Logistic Regression"
   ]
  },
  {
   "cell_type": "code",
   "execution_count": 11,
   "metadata": {},
   "outputs": [
    {
     "name": "stdout",
     "output_type": "stream",
     "text": [
      "accuracy of each fold is:  [0.75324675 0.74025974 0.78571429 0.79738562 0.77124183]\n",
      "cv acc is: 0.7695696460402341\n"
     ]
    },
    {
     "name": "stderr",
     "output_type": "stream",
     "text": [
      "E:\\Users\\SEELE\\Anaconda3\\lib\\site-packages\\sklearn\\cross_validation.py:41: DeprecationWarning: This module was deprecated in version 0.18 in favor of the model_selection module into which all the refactored classes and functions are moved. Also note that the interface of the new CV iterators are different from that of this module. This module will be removed in 0.20.\n",
      "  \"This module will be removed in 0.20.\", DeprecationWarning)\n"
     ]
    }
   ],
   "source": [
    "# \n",
    "\n",
    "from sklearn.linear_model import LogisticRegression\n",
    "lr= LogisticRegression()\n",
    "\n",
    "# 交叉验证用于评估模型性能和进行参数调优（模型选择）\n",
    "#分类任务中交叉验证缺省是采用StratifiedKFold\n",
    "from sklearn.cross_validation import cross_val_score\n",
    "acc = cross_val_score(lr, X_train, y_train, cv=5, scoring='accuracy')\n",
    "print('accuracy of each fold is: ',acc)\n",
    "print('cv acc is:', acc.mean())"
   ]
  },
  {
   "cell_type": "markdown",
   "metadata": {},
   "source": [
    "## Grid search for LR"
   ]
  },
  {
   "cell_type": "code",
   "execution_count": 12,
   "metadata": {},
   "outputs": [
    {
     "data": {
      "text/plain": [
       "GridSearchCV(cv=5, error_score='raise',\n",
       "       estimator=LogisticRegression(C=1.0, class_weight=None, dual=False, fit_intercept=True,\n",
       "          intercept_scaling=1, max_iter=100, multi_class='ovr', n_jobs=1,\n",
       "          penalty='l2', random_state=None, solver='liblinear', tol=0.0001,\n",
       "          verbose=0, warm_start=False),\n",
       "       fit_params=None, iid=True, n_jobs=1,\n",
       "       param_grid={'penalty': ['l1', 'l2'], 'C': [0.001, 0.1, 1, 10, 100, 1000, 10000, 100000]},\n",
       "       pre_dispatch='2*n_jobs', refit=True, return_train_score='warn',\n",
       "       scoring='accuracy', verbose=0)"
      ]
     },
     "execution_count": 12,
     "metadata": {},
     "output_type": "execute_result"
    }
   ],
   "source": [
    "# 正则化的 Logistic Regression及参数调优\n",
    "from sklearn.model_selection import GridSearchCV\n",
    "from sklearn.linear_model import LogisticRegression\n",
    "\n",
    "#需要调优的参数\n",
    "# 请尝试将L1正则和L2正则分开，并配合合适的优化求解算法（slover）\n",
    "#tuned_parameters = {'penalty':['l1','l2'],\n",
    "#                   'C': [0.001, 0.01, 0.1, 1, 10, 100, 1000]\n",
    "#                   }\n",
    "penaltys = ['l1','l2']\n",
    "Cs = [0.001,0.1,1, 10,100,1000,10000,100000]\n",
    "tuned_parameters = dict(penalty = penaltys, C = Cs)\n",
    "\n",
    "lr_penalty= LogisticRegression()\n",
    "grid= GridSearchCV(lr_penalty, tuned_parameters,cv=5, scoring='accuracy')\n",
    "grid.fit(X_train,y_train)"
   ]
  },
  {
   "cell_type": "code",
   "execution_count": 13,
   "metadata": {},
   "outputs": [
    {
     "name": "stderr",
     "output_type": "stream",
     "text": [
      "E:\\Users\\SEELE\\Anaconda3\\lib\\site-packages\\sklearn\\utils\\deprecation.py:122: FutureWarning: You are accessing a training score ('split0_train_score'), which will not be available by default any more in 0.21. If you need training scores, please set return_train_score=True\n",
      "  warnings.warn(*warn_args, **warn_kwargs)\n",
      "E:\\Users\\SEELE\\Anaconda3\\lib\\site-packages\\sklearn\\utils\\deprecation.py:122: FutureWarning: You are accessing a training score ('split1_train_score'), which will not be available by default any more in 0.21. If you need training scores, please set return_train_score=True\n",
      "  warnings.warn(*warn_args, **warn_kwargs)\n",
      "E:\\Users\\SEELE\\Anaconda3\\lib\\site-packages\\sklearn\\utils\\deprecation.py:122: FutureWarning: You are accessing a training score ('split2_train_score'), which will not be available by default any more in 0.21. If you need training scores, please set return_train_score=True\n",
      "  warnings.warn(*warn_args, **warn_kwargs)\n",
      "E:\\Users\\SEELE\\Anaconda3\\lib\\site-packages\\sklearn\\utils\\deprecation.py:122: FutureWarning: You are accessing a training score ('split3_train_score'), which will not be available by default any more in 0.21. If you need training scores, please set return_train_score=True\n",
      "  warnings.warn(*warn_args, **warn_kwargs)\n",
      "E:\\Users\\SEELE\\Anaconda3\\lib\\site-packages\\sklearn\\utils\\deprecation.py:122: FutureWarning: You are accessing a training score ('split4_train_score'), which will not be available by default any more in 0.21. If you need training scores, please set return_train_score=True\n",
      "  warnings.warn(*warn_args, **warn_kwargs)\n",
      "E:\\Users\\SEELE\\Anaconda3\\lib\\site-packages\\sklearn\\utils\\deprecation.py:122: FutureWarning: You are accessing a training score ('mean_train_score'), which will not be available by default any more in 0.21. If you need training scores, please set return_train_score=True\n",
      "  warnings.warn(*warn_args, **warn_kwargs)\n",
      "E:\\Users\\SEELE\\Anaconda3\\lib\\site-packages\\sklearn\\utils\\deprecation.py:122: FutureWarning: You are accessing a training score ('std_train_score'), which will not be available by default any more in 0.21. If you need training scores, please set return_train_score=True\n",
      "  warnings.warn(*warn_args, **warn_kwargs)\n"
     ]
    },
    {
     "data": {
      "text/plain": [
       "{'mean_fit_time': array([0.00079994, 0.00099998, 0.00100002, 0.0006    , 0.00079994,\n",
       "        0.00079999, 0.00100007, 0.00079999, 0.00099993, 0.00119996,\n",
       "        0.00100002, 0.00100002, 0.00079999, 0.00080004, 0.00160007,\n",
       "        0.00079999]),\n",
       " 'std_fit_time': array([3.99971008e-04, 9.53674316e-08, 1.90734863e-07, 4.89901382e-04,\n",
       "        3.99971008e-04, 3.99994861e-04, 1.16800773e-07, 3.99994861e-04,\n",
       "        0.00000000e+00, 4.00066376e-04, 1.16800773e-07, 6.32485093e-04,\n",
       "        3.99994861e-04, 4.00018706e-04, 8.00096994e-04, 7.48353705e-04]),\n",
       " 'mean_score_time': array([0.00040002, 0.        , 0.00059996, 0.00019999, 0.00039997,\n",
       "        0.00019999, 0.00019999, 0.00019999, 0.00019999, 0.00020003,\n",
       "        0.00019999, 0.00019999, 0.00040002, 0.00020003, 0.00019999,\n",
       "        0.00040002]),\n",
       " 'std_score_time': array([0.00048992, 0.        , 0.00048986, 0.00039997, 0.00048986,\n",
       "        0.00039997, 0.00039997, 0.00039997, 0.00039997, 0.00040007,\n",
       "        0.00039997, 0.00039997, 0.00048992, 0.00040007, 0.00039997,\n",
       "        0.00048992]),\n",
       " 'param_C': masked_array(data=[0.001, 0.001, 0.1, 0.1, 1, 1, 10, 10, 100, 100, 1000,\n",
       "                    1000, 10000, 10000, 100000, 100000],\n",
       "              mask=[False, False, False, False, False, False, False, False,\n",
       "                    False, False, False, False, False, False, False, False],\n",
       "        fill_value='?',\n",
       "             dtype=object),\n",
       " 'param_penalty': masked_array(data=['l1', 'l2', 'l1', 'l2', 'l1', 'l2', 'l1', 'l2', 'l1',\n",
       "                    'l2', 'l1', 'l2', 'l1', 'l2', 'l1', 'l2'],\n",
       "              mask=[False, False, False, False, False, False, False, False,\n",
       "                    False, False, False, False, False, False, False, False],\n",
       "        fill_value='?',\n",
       "             dtype=object),\n",
       " 'params': [{'C': 0.001, 'penalty': 'l1'},\n",
       "  {'C': 0.001, 'penalty': 'l2'},\n",
       "  {'C': 0.1, 'penalty': 'l1'},\n",
       "  {'C': 0.1, 'penalty': 'l2'},\n",
       "  {'C': 1, 'penalty': 'l1'},\n",
       "  {'C': 1, 'penalty': 'l2'},\n",
       "  {'C': 10, 'penalty': 'l1'},\n",
       "  {'C': 10, 'penalty': 'l2'},\n",
       "  {'C': 100, 'penalty': 'l1'},\n",
       "  {'C': 100, 'penalty': 'l2'},\n",
       "  {'C': 1000, 'penalty': 'l1'},\n",
       "  {'C': 1000, 'penalty': 'l2'},\n",
       "  {'C': 10000, 'penalty': 'l1'},\n",
       "  {'C': 10000, 'penalty': 'l2'},\n",
       "  {'C': 100000, 'penalty': 'l1'},\n",
       "  {'C': 100000, 'penalty': 'l2'}],\n",
       " 'split0_test_score': array([0.64935065, 0.74025974, 0.75974026, 0.75974026, 0.75324675,\n",
       "        0.75324675, 0.75324675, 0.75324675, 0.75324675, 0.75324675,\n",
       "        0.75324675, 0.75324675, 0.75324675, 0.75324675, 0.75324675,\n",
       "        0.75324675]),\n",
       " 'split1_test_score': array([0.64935065, 0.70779221, 0.74025974, 0.74675325, 0.74675325,\n",
       "        0.74025974, 0.74025974, 0.74025974, 0.74025974, 0.74025974,\n",
       "        0.74025974, 0.74025974, 0.74025974, 0.74025974, 0.74025974,\n",
       "        0.74025974]),\n",
       " 'split2_test_score': array([0.64935065, 0.75974026, 0.77272727, 0.78571429, 0.78571429,\n",
       "        0.78571429, 0.77272727, 0.77922078, 0.77922078, 0.77922078,\n",
       "        0.77922078, 0.77922078, 0.77922078, 0.77922078, 0.77922078,\n",
       "        0.77922078]),\n",
       " 'split3_test_score': array([0.65359477, 0.77777778, 0.79084967, 0.79738562, 0.79738562,\n",
       "        0.79738562, 0.79738562, 0.79738562, 0.79738562, 0.79738562,\n",
       "        0.79738562, 0.79738562, 0.79738562, 0.79738562, 0.79738562,\n",
       "        0.79738562]),\n",
       " 'split4_test_score': array([0.65359477, 0.75816993, 0.75816993, 0.76470588, 0.77777778,\n",
       "        0.77124183, 0.77124183, 0.77124183, 0.77124183, 0.77124183,\n",
       "        0.77124183, 0.77124183, 0.77124183, 0.77124183, 0.77124183,\n",
       "        0.77124183]),\n",
       " 'mean_test_score': array([0.65104167, 0.74869792, 0.76432292, 0.77083333, 0.77213542,\n",
       "        0.76953125, 0.76692708, 0.76822917, 0.76822917, 0.76822917,\n",
       "        0.76822917, 0.76822917, 0.76822917, 0.76822917, 0.76822917,\n",
       "        0.76822917]),\n",
       " 'std_test_score': array([0.00207782, 0.0236769 , 0.0167991 , 0.0182561 , 0.01926293,\n",
       "        0.02080024, 0.0193753 , 0.01993154, 0.01993154, 0.01993154,\n",
       "        0.01993154, 0.01993154, 0.01993154, 0.01993154, 0.01993154,\n",
       "        0.01993154]),\n",
       " 'rank_test_score': array([16, 15, 14,  2,  1,  3, 13,  4,  4,  4,  4,  4,  4,  4,  4,  4]),\n",
       " 'split0_train_score': array([0.6514658 , 0.752443  , 0.76710098, 0.7752443 , 0.77198697,\n",
       "        0.77687296, 0.77687296, 0.77687296, 0.77687296, 0.77687296,\n",
       "        0.77687296, 0.77687296, 0.77687296, 0.77687296, 0.77687296,\n",
       "        0.77687296]),\n",
       " 'split1_train_score': array([0.6514658 , 0.76547231, 0.77850163, 0.78175896, 0.78013029,\n",
       "        0.78013029, 0.77850163, 0.77850163, 0.77850163, 0.77850163,\n",
       "        0.77850163, 0.77850163, 0.77850163, 0.77850163, 0.77850163,\n",
       "        0.77850163]),\n",
       " 'split2_train_score': array([0.6514658 , 0.74104235, 0.77361564, 0.77687296, 0.78013029,\n",
       "        0.78175896, 0.78013029, 0.78013029, 0.78013029, 0.78013029,\n",
       "        0.78013029, 0.78013029, 0.78013029, 0.78013029, 0.78013029,\n",
       "        0.78013029]),\n",
       " 'split3_train_score': array([0.6504065 , 0.74796748, 0.76260163, 0.76747967, 0.76747967,\n",
       "        0.76910569, 0.77073171, 0.77073171, 0.77073171, 0.77073171,\n",
       "        0.77073171, 0.77073171, 0.77073171, 0.77073171, 0.77073171,\n",
       "        0.77073171]),\n",
       " 'split4_train_score': array([0.6504065 , 0.74634146, 0.77560976, 0.78536585, 0.78861789,\n",
       "        0.78699187, 0.78699187, 0.78536585, 0.78373984, 0.78373984,\n",
       "        0.78373984, 0.78373984, 0.78373984, 0.78373984, 0.78373984,\n",
       "        0.78373984]),\n",
       " 'mean_train_score': array([0.65104208, 0.75065332, 0.77148592, 0.77734435, 0.77766902,\n",
       "        0.77897196, 0.77864569, 0.77832049, 0.77799529, 0.77799529,\n",
       "        0.77799529, 0.77799529, 0.77799529, 0.77799529, 0.77799529,\n",
       "        0.77799529]),\n",
       " 'std_train_score': array([0.00051895, 0.00825811, 0.00581241, 0.00609553, 0.00732259,\n",
       "        0.00591907, 0.00524704, 0.00474616, 0.00428564, 0.00428564,\n",
       "        0.00428564, 0.00428564, 0.00428564, 0.00428564, 0.00428564,\n",
       "        0.00428564])}"
      ]
     },
     "execution_count": 13,
     "metadata": {},
     "output_type": "execute_result"
    }
   ],
   "source": [
    "grid.cv_results_"
   ]
  },
  {
   "cell_type": "code",
   "execution_count": 14,
   "metadata": {},
   "outputs": [
    {
     "name": "stdout",
     "output_type": "stream",
     "text": [
      "0.7721354166666666\n",
      "{'C': 1, 'penalty': 'l1'}\n"
     ]
    }
   ],
   "source": [
    "# examine the best model\n",
    "print(grid.best_score_)\n",
    "print(grid.best_params_)"
   ]
  },
  {
   "cell_type": "markdown",
   "metadata": {},
   "source": [
    "c在中间，L1正则\n",
    "l1, c=1"
   ]
  },
  {
   "cell_type": "code",
   "execution_count": 15,
   "metadata": {},
   "outputs": [
    {
     "name": "stderr",
     "output_type": "stream",
     "text": [
      "E:\\Users\\SEELE\\Anaconda3\\lib\\site-packages\\sklearn\\utils\\deprecation.py:122: FutureWarning: You are accessing a training score ('mean_train_score'), which will not be available by default any more in 0.21. If you need training scores, please set return_train_score=True\n",
      "  warnings.warn(*warn_args, **warn_kwargs)\n",
      "E:\\Users\\SEELE\\Anaconda3\\lib\\site-packages\\sklearn\\utils\\deprecation.py:122: FutureWarning: You are accessing a training score ('std_train_score'), which will not be available by default any more in 0.21. If you need training scores, please set return_train_score=True\n",
      "  warnings.warn(*warn_args, **warn_kwargs)\n"
     ]
    },
    {
     "data": {
      "image/png": "[encoded data removed]",
      "text/plain": [
       "<Figure size 432x288 with 1 Axes>"
      ]
     },
     "metadata": {},
     "output_type": "display_data"
    }
   ],
   "source": [
    "# plot CV误差曲线\n",
    "test_means = grid.cv_results_[ 'mean_test_score' ]\n",
    "test_stds = grid.cv_results_[ 'std_test_score' ]\n",
    "train_means = grid.cv_results_[ 'mean_train_score' ]\n",
    "train_stds = grid.cv_results_[ 'std_train_score' ]\n",
    "\n",
    "\n",
    "# plot results\n",
    "n_Cs = len(Cs)\n",
    "number_penaltys = len(penaltys)\n",
    "test_scores = np.array(test_means).reshape(n_Cs,number_penaltys)\n",
    "train_scores = np.array(train_means).reshape(n_Cs,number_penaltys)\n",
    "test_stds = np.array(test_stds).reshape(n_Cs,number_penaltys)\n",
    "train_stds = np.array(train_stds).reshape(n_Cs,number_penaltys)\n",
    "\n",
    "x_axis = np.log10(Cs)\n",
    "for i, value in enumerate(penaltys):\n",
    "    #pyplot.plot(log(Cs), test_scores[i], label= 'penalty:'   + str(value))\n",
    "    pyplot.errorbar(x_axis, test_scores[:,i], yerr=test_stds[:,i] ,label = penaltys[i] +' Test')\n",
    "    pyplot.errorbar(x_axis, train_scores[:,i], yerr=train_stds[:,i] ,label = penaltys[i] +' Train')\n",
    "    \n",
    "pyplot.legend()\n",
    "pyplot.xlabel( 'log(C)' )                                                                                                      \n",
    "pyplot.ylabel( 'accuracy' )\n",
    "pyplot.savefig('LogisticGridSearchCV_C.png' )\n",
    "\n",
    "pyplot.show()"
   ]
  },
  {
   "cell_type": "markdown",
   "metadata": {},
   "source": [
    "## LRL1正则"
   ]
  },
  {
   "cell_type": "code",
   "execution_count": 16,
   "metadata": {},
   "outputs": [
    {
     "data": {
      "text/plain": [
       "LogisticRegressionCV(Cs=[0.001, 0.1, 1, 10, 100, 1000, 10000, 100000],\n",
       "           class_weight=None, cv=5, dual=False, fit_intercept=True,\n",
       "           intercept_scaling=1.0, max_iter=100, multi_class='ovr',\n",
       "           n_jobs=1, penalty='l1', random_state=None, refit=True,\n",
       "           scoring='accuracy', solver='liblinear', tol=0.0001, verbose=0)"
      ]
     },
     "execution_count": 16,
     "metadata": {},
     "output_type": "execute_result"
    }
   ],
   "source": [
    "# 用LogisticRegressionCV实现正则化的 Logistic Regression\n",
    "from sklearn.linear_model import LogisticRegressionCV\n",
    "\n",
    "\n",
    "# 大量样本（6W+）、高维度（93），L1正则 --> 可选用saga优化求解器(0.19版本新功能)\n",
    "# LogisticRegressionCV比GridSearchCV快\n",
    "lrcv_L1 = LogisticRegressionCV(Cs=Cs, cv = 5, scoring='accuracy', penalty='l1', solver='liblinear', multi_class='ovr')\n",
    "lrcv_L1.fit(X_train, y_train)    \n",
    "\n",
    "\n"
   ]
  },
  {
   "cell_type": "code",
   "execution_count": 17,
   "metadata": {},
   "outputs": [
    {
     "data": {
      "text/plain": [
       "{1: array([[0.64935065, 0.75974026, 0.75324675, 0.75324675, 0.75324675,\n",
       "         0.75324675, 0.75324675, 0.75324675],\n",
       "        [0.64935065, 0.74025974, 0.74675325, 0.74025974, 0.74025974,\n",
       "         0.74025974, 0.74025974, 0.74025974],\n",
       "        [0.64935065, 0.77272727, 0.78571429, 0.77272727, 0.77922078,\n",
       "         0.77922078, 0.77922078, 0.77922078],\n",
       "        [0.65359477, 0.79084967, 0.79738562, 0.79738562, 0.79738562,\n",
       "         0.79738562, 0.79738562, 0.79738562],\n",
       "        [0.65359477, 0.75816993, 0.77777778, 0.77124183, 0.77124183,\n",
       "         0.77124183, 0.77124183, 0.77124183]])}"
      ]
     },
     "execution_count": 17,
     "metadata": {},
     "output_type": "execute_result"
    }
   ],
   "source": [
    "lrcv_L1.scores_"
   ]
  },
  {
   "cell_type": "code",
   "execution_count": 18,
   "metadata": {},
   "outputs": [
    {
     "data": {
      "text/plain": [
       "array([[ 0.40949014,  1.14777835, -0.10817025, -0.01145812, -0.12116277,\n",
       "         0.65833545,  0.28656635,  0.14298924]])"
      ]
     },
     "execution_count": 18,
     "metadata": {},
     "output_type": "execute_result"
    }
   ],
   "source": [
    "lrcv_L1.coef_"
   ]
  },
  {
   "cell_type": "code",
   "execution_count": 19,
   "metadata": {},
   "outputs": [
    {
     "data": {
      "text/plain": [
       "array([[[ 0,  5, 10,  9,  9, 10, 10, 11],\n",
       "        [ 0,  8,  9, 10,  9,  9,  9,  9],\n",
       "        [ 0,  8,  9,  9, 10,  9,  9,  9],\n",
       "        [ 0,  7,  9, 10,  9, 10, 10, 10],\n",
       "        [ 0, 10, 10, 10, 10,  9, 10,  9]]])"
      ]
     },
     "execution_count": 19,
     "metadata": {},
     "output_type": "execute_result"
    }
   ],
   "source": [
    "lrcv_L1.n_iter_"
   ]
  },
  {
   "cell_type": "markdown",
   "metadata": {},
   "source": [
    "可以从迭代次数观察模型的复杂度"
   ]
  },
  {
   "cell_type": "code",
   "execution_count": 20,
   "metadata": {},
   "outputs": [
    {
     "data": {
      "image/png": "[encoded data removed]",
      "text/plain": [
       "<Figure size 432x288 with 1 Axes>"
      ]
     },
     "metadata": {},
     "output_type": "display_data"
    },
    {
     "name": "stdout",
     "output_type": "stream",
     "text": [
      "最高准确率为： 0.7721755368814192\n"
     ]
    }
   ],
   "source": [
    "# scores_：dict with classes as the keys, and the values as the grid of scores obtained during cross-validating each fold,\n",
    "# Each dict value has shape (n_folds, len(Cs))\n",
    "n_Cs = len(Cs)\n",
    "\n",
    "n_classes = 2\n",
    "scores =  np.zeros((n_classes,n_Cs))\n",
    "\n",
    "\n",
    "scores[1][:] = np.mean(lrcv_L1.scores_[1],axis = 0)\n",
    "\n",
    "pyplot.plot(np.log10(Cs), scores[1][:].reshape(n_Cs,1)) \n",
    "\n",
    "pyplot.xlabel('log(C)')\n",
    "pyplot.ylabel('accuracy')\n",
    "pyplot.show()\n",
    "\n",
    "print('最高准确率为：',max(scores[1][:]))\n",
    "\n",
    "#print ('C is:',lr_cv.C_)  #对多类分类问题，每个类别的分类器有一个C"
   ]
  },
  {
   "cell_type": "markdown",
   "metadata": {},
   "source": [
    "C取0的时候为最优解"
   ]
  },
  {
   "cell_type": "markdown",
   "metadata": {},
   "source": [
    "## LRL2正则："
   ]
  },
  {
   "cell_type": "code",
   "execution_count": 21,
   "metadata": {},
   "outputs": [
    {
     "data": {
      "text/plain": [
       "LogisticRegressionCV(Cs=[0.001, 0.1, 1, 10, 100, 1000, 10000, 100000],\n",
       "           class_weight=None, cv=5, dual=False, fit_intercept=True,\n",
       "           intercept_scaling=1.0, max_iter=100, multi_class='ovr',\n",
       "           n_jobs=1, penalty='l2', random_state=None, refit=True,\n",
       "           scoring='accuracy', solver='liblinear', tol=0.0001, verbose=0)"
      ]
     },
     "execution_count": 21,
     "metadata": {},
     "output_type": "execute_result"
    }
   ],
   "source": [
    "from sklearn.linear_model import LogisticRegressionCV\n",
    "\n",
    "\n",
    "# 大量样本（6W+）、高维度（93），L2正则 --> 缺省用lbfgs，为了和GridSeachCV比较，也用liblinear\n",
    "\n",
    "lr_cv_L2 = LogisticRegressionCV(Cs=Cs, cv = 5, scoring='accuracy', penalty='l2', solver='liblinear', multi_class='ovr')\n",
    "lr_cv_L2.fit(X_train, y_train)    "
   ]
  },
  {
   "cell_type": "code",
   "execution_count": 22,
   "metadata": {},
   "outputs": [
    {
     "data": {
      "text/plain": [
       "LogisticRegressionCV(Cs=[0.001, 0.1, 1, 10, 100, 1000, 10000, 100000],\n",
       "           class_weight=None, cv=5, dual=False, fit_intercept=True,\n",
       "           intercept_scaling=1.0, max_iter=100, multi_class='ovr',\n",
       "           n_jobs=1, penalty='l2', random_state=None, refit=True,\n",
       "           scoring='accuracy', solver='liblinear', tol=0.0001, verbose=0)"
      ]
     },
     "execution_count": 22,
     "metadata": {},
     "output_type": "execute_result"
    }
   ],
   "source": [
    "lr_cv_L2"
   ]
  },
  {
   "cell_type": "code",
   "execution_count": 23,
   "metadata": {},
   "outputs": [
    {
     "data": {
      "text/plain": [
       "array([[[4, 5, 4, 5, 5, 5, 5, 5],\n",
       "        [4, 5, 5, 5, 5, 5, 5, 5],\n",
       "        [4, 5, 5, 5, 5, 5, 5, 5],\n",
       "        [5, 4, 5, 5, 5, 5, 5, 5],\n",
       "        [5, 4, 5, 5, 5, 5, 5, 5]]])"
      ]
     },
     "execution_count": 23,
     "metadata": {},
     "output_type": "execute_result"
    }
   ],
   "source": [
    "lr_cv_L2.n_iter_"
   ]
  },
  {
   "cell_type": "markdown",
   "metadata": {},
   "source": [
    "L2正则比L1正则的迭代次数少一半"
   ]
  },
  {
   "cell_type": "code",
   "execution_count": 24,
   "metadata": {},
   "outputs": [
    {
     "data": {
      "image/png": "[encoded data removed]",
      "text/plain": [
       "<Figure size 432x288 with 1 Axes>"
      ]
     },
     "metadata": {},
     "output_type": "display_data"
    },
    {
     "name": "stdout",
     "output_type": "stream",
     "text": [
      "L2正则LR最高准确率为： 0.7708598590951532\n"
     ]
    }
   ],
   "source": [
    "# dict with classes as the keys, and the values as the grid of scores obtained during cross-validating each fold,\n",
    "# Each dict value has shape (n_folds, len(Cs))\n",
    "n_Cs = len(Cs)\n",
    "n_classes = 2\n",
    "scores =  np.zeros((n_classes,n_Cs))\n",
    "\n",
    "scores[1][:] = np.mean(lr_cv_L2.scores_[1],axis = 0)\n",
    "\n",
    "pyplot.plot(np.log10(Cs), scores[1][:].reshape(n_Cs,1)) \n",
    "#plt.plot(np.log10(reg.Cs)*np.ones(3), [0.28, 0.29, 0.30])\n",
    "pyplot.xlabel('log(C)')\n",
    "pyplot.ylabel('accuracy')\n",
    "pyplot.show()\n",
    "\n",
    "print('L2正则LR最高准确率为：',max(scores[1][:]))\n",
    "\n",
    "#print ('C is:',lr_cv.C_)  #对多类分类问题，每个类别的分类器有一个C"
   ]
  },
  {
   "cell_type": "markdown",
   "metadata": {},
   "source": [
    "C取-1的时候为最优解"
   ]
  },
  {
   "cell_type": "markdown",
   "metadata": {},
   "source": [
    "## 所以综合L1和L2， L1并且C取0的时候准确率最高，为0.772,确实和gridSearch得出来的结果不一样啊。。。"
   ]
  },
  {
   "cell_type": "code",
   "execution_count": null,
   "metadata": {},
   "outputs": [],
   "source": []
  },
  {
   "cell_type": "code",
   "execution_count": null,
   "metadata": {},
   "outputs": [],
   "source": []
  },
  {
   "cell_type": "code",
   "execution_count": null,
   "metadata": {},
   "outputs": [],
   "source": []
  },
  {
   "cell_type": "markdown",
   "metadata": {},
   "source": [
    "### default SVC"
   ]
  },
  {
   "cell_type": "code",
   "execution_count": 25,
   "metadata": {},
   "outputs": [
    {
     "name": "stderr",
     "output_type": "stream",
     "text": [
      "E:\\Users\\SEELE\\Anaconda3\\lib\\site-packages\\sklearn\\model_selection\\_split.py:2026: FutureWarning: From version 0.21, test_size will always complement train_size unless both are specified.\n",
      "  FutureWarning)\n"
     ]
    }
   ],
   "source": [
    "#LinearSVC不能得到每类的概率，在Otto数据集要求输出每类的概率，这里只是示意SVM的使用方法\n",
    "#https://xacecask2.gitbooks.io/scikit-learn-user-guide-chinese-version/content/sec1.4.html\n",
    "#1.4.1.2. 得分与概率\n",
    "from sklearn.svm import LinearSVC\n",
    "\n",
    "# 训练样本6w+，交叉验证太慢，用train_test_split估计模型性能\n",
    "from sklearn.model_selection import train_test_split\n",
    "X_train_part, X_val, y_train_part, y_val = train_test_split(X_train, y_train, train_size = 0.8,random_state = 0)\n",
    "\n",
    "SVC1 = LinearSVC().fit(X_train_part, y_train_part)"
   ]
  },
  {
   "cell_type": "code",
   "execution_count": 26,
   "metadata": {},
   "outputs": [
    {
     "name": "stdout",
     "output_type": "stream",
     "text": [
      "Classification report for classifier LinearSVC(C=1.0, class_weight=None, dual=True, fit_intercept=True,\n",
      "     intercept_scaling=1, loss='squared_hinge', max_iter=1000,\n",
      "     multi_class='ovr', penalty='l2', random_state=None, tol=0.0001,\n",
      "     verbose=0):\n",
      "             precision    recall  f1-score   support\n",
      "\n",
      "          0       0.84      0.92      0.88       107\n",
      "          1       0.76      0.60      0.67        47\n",
      "\n",
      "avg / total       0.81      0.82      0.81       154\n",
      "\n",
      "\n",
      "Confusion matrix:\n",
      "[[98  9]\n",
      " [19 28]]\n"
     ]
    }
   ],
   "source": [
    "#在校验集上测试，估计模型性能\n",
    "y_predict = SVC1.predict(X_val)\n",
    "\n",
    "print(\"Classification report for classifier %s:\\n%s\\n\"\n",
    "      % (SVC1, metrics.classification_report(y_val, y_predict)))\n",
    "print(\"Confusion matrix:\\n%s\" % metrics.confusion_matrix(y_val, y_predict))"
   ]
  },
  {
   "cell_type": "markdown",
   "metadata": {},
   "source": [
    "结果比LR的要好。"
   ]
  },
  {
   "cell_type": "markdown",
   "metadata": {},
   "source": [
    "### 线性SVM正则参数调优"
   ]
  },
  {
   "cell_type": "markdown",
   "metadata": {},
   "source": [
    "线性SVM LinearSVC的需要调整正则超参数包括C（正则系数，一般在log域（取log后的值）均匀设置候选参数）和正则函数penalty（L2/L1） \n",
    "\n",
    "采用交叉验证，网格搜索步骤与Logistic回归正则参数处理类似，在此略。\n",
    "\n",
    "这里我们用校验集（X_val、y_val）来估计模型性能"
   ]
  },
  {
   "cell_type": "code",
   "execution_count": 27,
   "metadata": {},
   "outputs": [],
   "source": [
    "def fit_grid_point_Linear(C, X_train, y_train, X_val, y_val):\n",
    "    \n",
    "    # 在训练集是那个利用SVC训练\n",
    "    SVC2 =  LinearSVC( C = C)\n",
    "    SVC2 = SVC2.fit(X_train, y_train)\n",
    "    \n",
    "    # 在校验集上返回accuracy\n",
    "    accuracy = SVC2.score(X_val, y_val)\n",
    "    \n",
    "    print(\"accuracy: {}\".format(accuracy))\n",
    "    print(\"iterations:\",  SVC2.n_iter_)\n",
    "    return accuracy"
   ]
  },
  {
   "cell_type": "code",
   "execution_count": 28,
   "metadata": {
    "scrolled": false
   },
   "outputs": [
    {
     "name": "stdout",
     "output_type": "stream",
     "text": [
      "accuracy: 0.7987012987012987\n",
      "iterations: 11\n",
      "accuracy: 0.8051948051948052\n",
      "iterations: 23\n",
      "accuracy: 0.8116883116883117\n",
      "iterations: 170\n",
      "accuracy: 0.8116883116883117\n",
      "iterations: 1000\n",
      "accuracy: 0.8116883116883117\n",
      "iterations: 1000\n",
      "accuracy: 0.8376623376623377\n",
      "iterations: 1000\n"
     ]
    },
    {
     "name": "stderr",
     "output_type": "stream",
     "text": [
      "No handles with labels found to put in legend.\n"
     ]
    },
    {
     "name": "stdout",
     "output_type": "stream",
     "text": [
      "accuracy: 0.7727272727272727\n",
      "iterations: 1000\n"
     ]
    },
    {
     "data": {
      "image/png": "[encoded data removed]",
      "text/plain": [
       "<Figure size 432x288 with 1 Axes>"
      ]
     },
     "metadata": {},
     "output_type": "display_data"
    }
   ],
   "source": [
    "#需要调优的参数\n",
    "C_s = np.logspace(-3, 3, 7)# logspace(a,b,N)把10的a次方到10的b次方区间分成N份  \n",
    "#penalty_s = ['l1','l2']\n",
    "\n",
    "accuracy_s = []\n",
    "for i, oneC in enumerate(C_s):\n",
    "#    for j, penalty in enumerate(penalty_s):\n",
    "    tmp = fit_grid_point_Linear(oneC, X_train, y_train, X_val, y_val)\n",
    "    accuracy_s.append(tmp)\n",
    "\n",
    "x_axis = np.log10(C_s)\n",
    "#for j, penalty in enumerate(penalty_s):\n",
    "pyplot.plot(x_axis, np.array(accuracy_s), 'b-')\n",
    "    \n",
    "pyplot.legend()\n",
    "pyplot.xlabel( 'log(C)' )                                                                                                      \n",
    "pyplot.ylabel( 'accuracy' )\n",
    "\n",
    "pyplot.show()\n",
    "  \n"
   ]
  },
  {
   "cell_type": "code",
   "execution_count": null,
   "metadata": {},
   "outputs": [],
   "source": []
  },
  {
   "cell_type": "markdown",
   "metadata": {},
   "source": [
    "线性SVM最佳参数是C = 2，最高准确率为0.837，迭代次数1000，很高了。随着C值的提升，模型复杂度在提升。"
   ]
  },
  {
   "cell_type": "markdown",
   "metadata": {},
   "source": [
    "### RBF核SVM正则参数调优\n",
    "\n",
    "RBF核是SVM最常用的核函数。\n",
    "RBF核SVM 的需要调整正则超参数包括C（正则系数，一般在log域（取log后的值）均匀设置候选参数）和核函数的宽度gamma\n",
    "C越小，决策边界越平滑； \n",
    "gamma越小，决策边界越平滑。\n",
    "\n",
    "采用交叉验证，网格搜索步骤与Logistic回归正则参数处理类似，在此略。\n",
    "\n",
    "这里我们用校验集（X_val、y_val）来估计模型性能"
   ]
  },
  {
   "cell_type": "code",
   "execution_count": 29,
   "metadata": {},
   "outputs": [],
   "source": [
    "from sklearn.svm import SVC"
   ]
  },
  {
   "cell_type": "code",
   "execution_count": 30,
   "metadata": {},
   "outputs": [],
   "source": [
    "def fit_grid_point_RBF(C, gamma, X_train, y_train, X_val, y_val):\n",
    "    \n",
    "    # 在训练集是那个利用SVC训练\n",
    "    SVC3 =  SVC( C = C, kernel='rbf', gamma = gamma)\n",
    "    SVC3 = SVC3.fit(X_train, y_train)\n",
    "    \n",
    "    # 在校验集上返回accuracy\n",
    "    accuracy = SVC3.score(X_val, y_val)\n",
    "    \n",
    "    print(\"accuracy: {}\".format(accuracy))\n",
    "    print(\"support_vectors_ :\", SVC3.support_vectors_ )\n",
    "    return accuracy"
   ]
  },
  {
   "cell_type": "code",
   "execution_count": 31,
   "metadata": {
    "scrolled": true
   },
   "outputs": [
    {
     "name": "stdout",
     "output_type": "stream",
     "text": [
      "accuracy: 0.6948051948051948\n",
      "support_vectors_ : [[ 1.82781311 -0.21967262 -0.18973447 ...  0.41466084 -1.02042653\n",
      "  -0.36084741]\n",
      " [ 0.04601433 -0.38405874  1.62861696 ...  0.74940647 -0.84827977\n",
      "  -0.27575966]\n",
      " [ 1.82781311  0.56938074  0.63678891 ... -0.77878009  2.92686858\n",
      "   2.02160968]\n",
      " ...\n",
      " [ 0.63994726  2.24611912  1.62861696 ...  0.44376915 -0.58552944\n",
      "   2.78739945]\n",
      " [ 1.53084665  1.58857465  0.14087488 ...  1.68087256 -0.20801461\n",
      "   0.83038113]\n",
      " [-0.84488505  0.14197684 -1.01625784 ... -0.34215536 -0.37110101\n",
      "   1.17073215]]\n",
      "accuracy: 0.6948051948051948\n",
      "support_vectors_ : [[ 1.82781311 -0.21967262 -0.18973447 ...  0.41466084 -1.02042653\n",
      "  -0.36084741]\n",
      " [ 0.04601433 -0.38405874  1.62861696 ...  0.74940647 -0.84827977\n",
      "  -0.27575966]\n",
      " [ 1.82781311  0.56938074  0.63678891 ... -0.77878009  2.92686858\n",
      "   2.02160968]\n",
      " ...\n",
      " [ 0.63994726  2.24611912  1.62861696 ...  0.44376915 -0.58552944\n",
      "   2.78739945]\n",
      " [ 1.53084665  1.58857465  0.14087488 ...  1.68087256 -0.20801461\n",
      "   0.83038113]\n",
      " [-0.84488505  0.14197684 -1.01625784 ... -0.34215536 -0.37110101\n",
      "   1.17073215]]\n",
      "accuracy: 0.6948051948051948\n",
      "support_vectors_ : [[-0.84488505 -1.20598931 -0.52034382 ... -0.85155088 -0.36506078\n",
      "  -0.19067191]\n",
      " [ 1.82781311 -0.21967262 -0.18973447 ...  0.41466084 -1.02042653\n",
      "  -0.36084741]\n",
      " [ 1.82781311  0.56938074  0.63678891 ... -0.77878009  2.92686858\n",
      "   2.02160968]\n",
      " ...\n",
      " [ 0.63994726  2.24611912  1.62861696 ...  0.44376915 -0.58552944\n",
      "   2.78739945]\n",
      " [ 1.53084665  1.58857465  0.14087488 ...  1.68087256 -0.20801461\n",
      "   0.83038113]\n",
      " [-0.84488505  0.14197684 -1.01625784 ... -0.34215536 -0.37110101\n",
      "   1.17073215]]\n",
      "accuracy: 0.6948051948051948\n",
      "support_vectors_ : [[-0.84488505 -1.20598931 -0.52034382 ... -0.85155088 -0.36506078\n",
      "  -0.19067191]\n",
      " [-0.84488505 -1.07448042 -0.52034382 ... -0.63323851 -0.92076261\n",
      "  -1.04154944]\n",
      " [ 0.3429808  -0.1867954   0.14087488 ... -0.99709246 -0.81807858\n",
      "  -0.27575966]\n",
      " ...\n",
      " [ 0.63994726  2.24611912  1.62861696 ...  0.44376915 -0.58552944\n",
      "   2.78739945]\n",
      " [ 1.53084665  1.58857465  0.14087488 ...  1.68087256 -0.20801461\n",
      "   0.83038113]\n",
      " [-0.84488505  0.14197684 -1.01625784 ... -0.34215536 -0.37110101\n",
      "   1.17073215]]\n",
      "accuracy: 0.6948051948051948\n",
      "support_vectors_ : [[-0.84488505 -1.20598931 -0.52034382 ... -0.85155088 -0.36506078\n",
      "  -0.19067191]\n",
      " [-0.84488505 -1.07448042 -0.52034382 ... -0.63323851 -0.92076261\n",
      "  -1.04154944]\n",
      " [ 0.3429808  -0.1867954   0.14087488 ... -0.99709246 -0.81807858\n",
      "  -0.27575966]\n",
      " ...\n",
      " [ 0.63994726  2.24611912  1.62861696 ...  0.44376915 -0.58552944\n",
      "   2.78739945]\n",
      " [ 1.53084665  1.58857465  0.14087488 ...  1.68087256 -0.20801461\n",
      "   0.83038113]\n",
      " [-0.84488505  0.14197684 -1.01625784 ... -0.34215536 -0.37110101\n",
      "   1.17073215]]\n",
      "accuracy: 0.7467532467532467\n",
      "support_vectors_ : [[ 1.82781311 -0.21967262 -0.18973447 ...  0.41466084 -1.02042653\n",
      "  -0.36084741]\n",
      " [ 0.04601433 -0.38405874  1.62861696 ...  0.74940647 -0.84827977\n",
      "  -0.27575966]\n",
      " [ 1.82781311  0.56938074  0.63678891 ... -0.77878009  2.92686858\n",
      "   2.02160968]\n",
      " ...\n",
      " [ 0.63994726  2.24611912  1.62861696 ...  0.44376915 -0.58552944\n",
      "   2.78739945]\n",
      " [ 1.53084665  1.58857465  0.14087488 ...  1.68087256 -0.20801461\n",
      "   0.83038113]\n",
      " [-0.84488505  0.14197684 -1.01625784 ... -0.34215536 -0.37110101\n",
      "   1.17073215]]\n",
      "accuracy: 0.8246753246753247\n",
      "support_vectors_ : [[ 1.82781311 -0.21967262 -0.18973447 ...  0.41466084 -1.02042653\n",
      "  -0.36084741]\n",
      " [ 0.04601433 -0.38405874  1.62861696 ...  0.74940647 -0.84827977\n",
      "  -0.27575966]\n",
      " [ 1.82781311  0.56938074  0.63678891 ... -0.77878009  2.92686858\n",
      "   2.02160968]\n",
      " ...\n",
      " [-1.14185152  0.04334517 -0.02442979 ...  0.56020242 -0.64593181\n",
      "   1.59617091]\n",
      " [ 0.63994726  2.24611912  1.62861696 ...  0.44376915 -0.58552944\n",
      "   2.78739945]\n",
      " [-0.84488505  0.14197684 -1.01625784 ... -0.34215536 -0.37110101\n",
      "   1.17073215]]\n",
      "accuracy: 0.6948051948051948\n",
      "support_vectors_ : [[-0.84488505 -1.20598931 -0.52034382 ... -0.85155088 -0.36506078\n",
      "  -0.19067191]\n",
      " [ 1.82781311 -0.21967262 -0.18973447 ...  0.41466084 -1.02042653\n",
      "  -0.36084741]\n",
      " [ 0.04601433 -0.38405874  1.62861696 ...  0.74940647 -0.84827977\n",
      "  -0.27575966]\n",
      " ...\n",
      " [ 0.63994726  2.24611912  1.62861696 ...  0.44376915 -0.58552944\n",
      "   2.78739945]\n",
      " [ 1.53084665  1.58857465  0.14087488 ...  1.68087256 -0.20801461\n",
      "   0.83038113]\n",
      " [-0.84488505  0.14197684 -1.01625784 ... -0.34215536 -0.37110101\n",
      "   1.17073215]]\n",
      "accuracy: 0.6948051948051948\n",
      "support_vectors_ : [[-0.84488505 -1.20598931 -0.52034382 ... -0.85155088 -0.36506078\n",
      "  -0.19067191]\n",
      " [-0.84488505 -1.07448042 -0.52034382 ... -0.63323851 -0.92076261\n",
      "  -1.04154944]\n",
      " [ 0.3429808  -0.1867954   0.14087488 ... -0.99709246 -0.81807858\n",
      "  -0.27575966]\n",
      " ...\n",
      " [ 0.63994726  2.24611912  1.62861696 ...  0.44376915 -0.58552944\n",
      "   2.78739945]\n",
      " [ 1.53084665  1.58857465  0.14087488 ...  1.68087256 -0.20801461\n",
      "   0.83038113]\n",
      " [-0.84488505  0.14197684 -1.01625784 ... -0.34215536 -0.37110101\n",
      "   1.17073215]]\n",
      "accuracy: 0.6948051948051948\n",
      "support_vectors_ : [[-0.84488505 -1.20598931 -0.52034382 ... -0.85155088 -0.36506078\n",
      "  -0.19067191]\n",
      " [-0.84488505 -1.07448042 -0.52034382 ... -0.63323851 -0.92076261\n",
      "  -1.04154944]\n",
      " [ 0.3429808  -0.1867954   0.14087488 ... -0.99709246 -0.81807858\n",
      "  -0.27575966]\n",
      " ...\n",
      " [ 0.63994726  2.24611912  1.62861696 ...  0.44376915 -0.58552944\n",
      "   2.78739945]\n",
      " [ 1.53084665  1.58857465  0.14087488 ...  1.68087256 -0.20801461\n",
      "   0.83038113]\n",
      " [-0.84488505  0.14197684 -1.01625784 ... -0.34215536 -0.37110101\n",
      "   1.17073215]]\n",
      "accuracy: 0.8051948051948052\n",
      "support_vectors_ : [[ 1.82781311 -0.21967262 -0.18973447 ...  0.41466084 -1.02042653\n",
      "  -0.36084741]\n",
      " [ 0.04601433 -0.38405874  1.62861696 ...  0.74940647 -0.84827977\n",
      "  -0.27575966]\n",
      " [ 1.82781311  0.56938074  0.63678891 ... -0.77878009  2.92686858\n",
      "   2.02160968]\n",
      " ...\n",
      " [-0.84488505  0.20773128  1.29800761 ...  0.58931073  1.76714301\n",
      "   0.31985461]\n",
      " [-1.14185152  0.04334517 -0.02442979 ...  0.56020242 -0.64593181\n",
      "   1.59617091]\n",
      " [-0.84488505  0.14197684 -1.01625784 ... -0.34215536 -0.37110101\n",
      "   1.17073215]]\n",
      "accuracy: 0.8636363636363636\n",
      "support_vectors_ : [[ 1.82781311 -0.21967262 -0.18973447 ...  0.41466084 -1.02042653\n",
      "  -0.36084741]\n",
      " [ 1.82781311  0.56938074  0.63678891 ... -0.77878009  2.92686858\n",
      "   2.02160968]\n",
      " [-0.84488505 -0.6141993  -3.49582796 ...  1.57899345 -0.87244072\n",
      "  -0.0204964 ]\n",
      " ...\n",
      " [-1.14185152  0.04334517 -0.02442979 ...  0.56020242 -0.64593181\n",
      "   1.59617091]\n",
      " [ 0.63994726  2.24611912  1.62861696 ...  0.44376915 -0.58552944\n",
      "   2.78739945]\n",
      " [-0.84488505  0.14197684 -1.01625784 ... -0.34215536 -0.37110101\n",
      "   1.17073215]]\n",
      "accuracy: 0.987012987012987\n",
      "support_vectors_ : [[-0.84488505 -1.20598931 -0.52034382 ... -0.85155088 -0.36506078\n",
      "  -0.19067191]\n",
      " [ 1.82781311 -0.21967262 -0.18973447 ...  0.41466084 -1.02042653\n",
      "  -0.36084741]\n",
      " [ 0.04601433 -0.38405874  1.62861696 ...  0.74940647 -0.84827977\n",
      "  -0.27575966]\n",
      " ...\n",
      " [ 0.63994726  2.24611912  1.62861696 ...  0.44376915 -0.58552944\n",
      "   2.78739945]\n",
      " [ 1.53084665  1.58857465  0.14087488 ...  1.68087256 -0.20801461\n",
      "   0.83038113]\n",
      " [-0.84488505  0.14197684 -1.01625784 ... -0.34215536 -0.37110101\n",
      "   1.17073215]]\n",
      "accuracy: 1.0\n",
      "support_vectors_ : [[-0.84488505 -1.20598931 -0.52034382 ... -0.85155088 -0.36506078\n",
      "  -0.19067191]\n",
      " [-0.84488505 -1.07448042 -0.52034382 ... -0.63323851 -0.92076261\n",
      "  -1.04154944]\n",
      " [ 0.3429808  -0.1867954   0.14087488 ... -0.99709246 -0.81807858\n",
      "  -0.27575966]\n",
      " ...\n",
      " [ 0.63994726  2.24611912  1.62861696 ...  0.44376915 -0.58552944\n",
      "   2.78739945]\n",
      " [ 1.53084665  1.58857465  0.14087488 ...  1.68087256 -0.20801461\n",
      "   0.83038113]\n",
      " [-0.84488505  0.14197684 -1.01625784 ... -0.34215536 -0.37110101\n",
      "   1.17073215]]\n",
      "accuracy: 1.0\n",
      "support_vectors_ : [[-0.84488505 -1.20598931 -0.52034382 ... -0.85155088 -0.36506078\n",
      "  -0.19067191]\n",
      " [-0.84488505 -1.07448042 -0.52034382 ... -0.63323851 -0.92076261\n",
      "  -1.04154944]\n",
      " [ 0.3429808  -0.1867954   0.14087488 ... -0.99709246 -0.81807858\n",
      "  -0.27575966]\n",
      " ...\n",
      " [ 0.63994726  2.24611912  1.62861696 ...  0.44376915 -0.58552944\n",
      "   2.78739945]\n",
      " [ 1.53084665  1.58857465  0.14087488 ...  1.68087256 -0.20801461\n",
      "   0.83038113]\n",
      " [-0.84488505  0.14197684 -1.01625784 ... -0.34215536 -0.37110101\n",
      "   1.17073215]]\n",
      "accuracy: 0.8116883116883117\n",
      "support_vectors_ : [[ 1.82781311 -0.21967262 -0.18973447 ...  0.41466084 -1.02042653\n",
      "  -0.36084741]\n",
      " [ 0.04601433 -0.38405874  1.62861696 ...  0.74940647 -0.84827977\n",
      "  -0.27575966]\n",
      " [ 1.82781311  0.56938074  0.63678891 ... -0.77878009  2.92686858\n",
      "   2.02160968]\n",
      " ...\n",
      " [-0.84488505  0.20773128  1.29800761 ...  0.58931073  1.76714301\n",
      "   0.31985461]\n",
      " [-1.14185152  0.04334517 -0.02442979 ...  0.56020242 -0.64593181\n",
      "   1.59617091]\n",
      " [-0.84488505  0.14197684 -1.01625784 ... -0.34215536 -0.37110101\n",
      "   1.17073215]]\n",
      "accuracy: 0.9155844155844156\n",
      "support_vectors_ : [[ 1.82781311 -0.21967262 -0.18973447 ...  0.41466084 -1.02042653\n",
      "  -0.36084741]\n",
      " [ 1.82781311  0.56938074  0.63678891 ... -0.77878009  2.92686858\n",
      "   2.02160968]\n",
      " [-0.84488505 -0.6141993  -3.49582796 ...  1.57899345 -0.87244072\n",
      "  -0.0204964 ]\n",
      " ...\n",
      " [ 1.23388019  1.06253908  0.47148423 ... -0.00740973 -0.08720986\n",
      "   1.00055664]\n",
      " [ 0.63994726  2.24611912  1.62861696 ...  0.44376915 -0.58552944\n",
      "   2.78739945]\n",
      " [-0.84488505  0.14197684 -1.01625784 ... -0.34215536 -0.37110101\n",
      "   1.17073215]]\n",
      "accuracy: 1.0\n",
      "support_vectors_ : [[-0.84488505 -1.20598931 -0.52034382 ... -0.85155088 -0.36506078\n",
      "  -0.19067191]\n",
      " [ 1.82781311 -0.21967262 -0.18973447 ...  0.41466084 -1.02042653\n",
      "  -0.36084741]\n",
      " [ 1.82781311  0.56938074  0.63678891 ... -0.77878009  2.92686858\n",
      "   2.02160968]\n",
      " ...\n",
      " [ 0.63994726  2.24611912  1.62861696 ...  0.44376915 -0.58552944\n",
      "   2.78739945]\n",
      " [ 1.53084665  1.58857465  0.14087488 ...  1.68087256 -0.20801461\n",
      "   0.83038113]\n",
      " [-0.84488505  0.14197684 -1.01625784 ... -0.34215536 -0.37110101\n",
      "   1.17073215]]\n"
     ]
    },
    {
     "name": "stdout",
     "output_type": "stream",
     "text": [
      "accuracy: 1.0\n",
      "support_vectors_ : [[-0.84488505 -1.20598931 -0.52034382 ... -0.85155088 -0.36506078\n",
      "  -0.19067191]\n",
      " [-0.84488505 -1.07448042 -0.52034382 ... -0.63323851 -0.92076261\n",
      "  -1.04154944]\n",
      " [ 0.3429808  -0.1867954   0.14087488 ... -0.99709246 -0.81807858\n",
      "  -0.27575966]\n",
      " ...\n",
      " [ 0.63994726  2.24611912  1.62861696 ...  0.44376915 -0.58552944\n",
      "   2.78739945]\n",
      " [ 1.53084665  1.58857465  0.14087488 ...  1.68087256 -0.20801461\n",
      "   0.83038113]\n",
      " [-0.84488505  0.14197684 -1.01625784 ... -0.34215536 -0.37110101\n",
      "   1.17073215]]\n",
      "accuracy: 1.0\n",
      "support_vectors_ : [[-0.84488505 -1.20598931 -0.52034382 ... -0.85155088 -0.36506078\n",
      "  -0.19067191]\n",
      " [-0.84488505 -1.07448042 -0.52034382 ... -0.63323851 -0.92076261\n",
      "  -1.04154944]\n",
      " [ 0.3429808  -0.1867954   0.14087488 ... -0.99709246 -0.81807858\n",
      "  -0.27575966]\n",
      " ...\n",
      " [ 0.63994726  2.24611912  1.62861696 ...  0.44376915 -0.58552944\n",
      "   2.78739945]\n",
      " [ 1.53084665  1.58857465  0.14087488 ...  1.68087256 -0.20801461\n",
      "   0.83038113]\n",
      " [-0.84488505  0.14197684 -1.01625784 ... -0.34215536 -0.37110101\n",
      "   1.17073215]]\n",
      "accuracy: 0.8181818181818182\n",
      "support_vectors_ : [[ 1.82781311 -0.21967262 -0.18973447 ...  0.41466084 -1.02042653\n",
      "  -0.36084741]\n",
      " [ 0.04601433 -0.38405874  1.62861696 ...  0.74940647 -0.84827977\n",
      "  -0.27575966]\n",
      " [ 1.82781311  0.56938074  0.63678891 ... -0.77878009  2.92686858\n",
      "   2.02160968]\n",
      " ...\n",
      " [-1.14185152  0.04334517 -0.02442979 ...  0.56020242 -0.64593181\n",
      "   1.59617091]\n",
      " [ 0.63994726  2.24611912  1.62861696 ...  0.44376915 -0.58552944\n",
      "   2.78739945]\n",
      " [-0.84488505  0.14197684 -1.01625784 ... -0.34215536 -0.37110101\n",
      "   1.17073215]]\n",
      "accuracy: 0.9415584415584416\n",
      "support_vectors_ : [[ 1.82781311 -0.21967262 -0.18973447 ...  0.41466084 -1.02042653\n",
      "  -0.36084741]\n",
      " [-0.84488505 -0.6141993  -3.49582796 ...  1.57899345 -0.87244072\n",
      "  -0.0204964 ]\n",
      " [-0.25095213  0.14197684  1.29800761 ...  0.99682715  0.70104112\n",
      "  -0.53102292]\n",
      " ...\n",
      " [ 1.23388019  1.06253908  0.47148423 ... -0.00740973 -0.08720986\n",
      "   1.00055664]\n",
      " [-0.84488505  0.20773128  1.29800761 ...  0.58931073  1.76714301\n",
      "   0.31985461]\n",
      " [-0.84488505  0.14197684 -1.01625784 ... -0.34215536 -0.37110101\n",
      "   1.17073215]]\n",
      "accuracy: 1.0\n",
      "support_vectors_ : [[-0.84488505 -1.20598931 -0.52034382 ... -0.85155088 -0.36506078\n",
      "  -0.19067191]\n",
      " [ 1.82781311 -0.21967262 -0.18973447 ...  0.41466084 -1.02042653\n",
      "  -0.36084741]\n",
      " [ 1.82781311  0.56938074  0.63678891 ... -0.77878009  2.92686858\n",
      "   2.02160968]\n",
      " ...\n",
      " [ 0.63994726  2.24611912  1.62861696 ...  0.44376915 -0.58552944\n",
      "   2.78739945]\n",
      " [ 1.53084665  1.58857465  0.14087488 ...  1.68087256 -0.20801461\n",
      "   0.83038113]\n",
      " [-0.84488505  0.14197684 -1.01625784 ... -0.34215536 -0.37110101\n",
      "   1.17073215]]\n",
      "accuracy: 1.0\n",
      "support_vectors_ : [[-0.84488505 -1.20598931 -0.52034382 ... -0.85155088 -0.36506078\n",
      "  -0.19067191]\n",
      " [-0.84488505 -1.07448042 -0.52034382 ... -0.63323851 -0.92076261\n",
      "  -1.04154944]\n",
      " [ 0.3429808  -0.1867954   0.14087488 ... -0.99709246 -0.81807858\n",
      "  -0.27575966]\n",
      " ...\n",
      " [ 0.63994726  2.24611912  1.62861696 ...  0.44376915 -0.58552944\n",
      "   2.78739945]\n",
      " [ 1.53084665  1.58857465  0.14087488 ...  1.68087256 -0.20801461\n",
      "   0.83038113]\n",
      " [-0.84488505  0.14197684 -1.01625784 ... -0.34215536 -0.37110101\n",
      "   1.17073215]]\n",
      "accuracy: 1.0\n",
      "support_vectors_ : [[-0.84488505 -1.20598931 -0.52034382 ... -0.85155088 -0.36506078\n",
      "  -0.19067191]\n",
      " [-0.84488505 -1.07448042 -0.52034382 ... -0.63323851 -0.92076261\n",
      "  -1.04154944]\n",
      " [ 0.3429808  -0.1867954   0.14087488 ... -0.99709246 -0.81807858\n",
      "  -0.27575966]\n",
      " ...\n",
      " [ 0.63994726  2.24611912  1.62861696 ...  0.44376915 -0.58552944\n",
      "   2.78739945]\n",
      " [ 1.53084665  1.58857465  0.14087488 ...  1.68087256 -0.20801461\n",
      "   0.83038113]\n",
      " [-0.84488505  0.14197684 -1.01625784 ... -0.34215536 -0.37110101\n",
      "   1.17073215]]\n"
     ]
    }
   ],
   "source": [
    "#需要调优的参数\n",
    "C_s = np.logspace(-2, 2, 5)# logspace(a,b,N)把10的a次方到10的b次方区间分成N份 \n",
    "gamma_s = np.logspace(-2, 2, 5)  \n",
    "\n",
    "accuracy_s = []\n",
    "for i, oneC in enumerate(C_s):\n",
    "    for j, gamma in enumerate(gamma_s):\n",
    "        tmp = fit_grid_point_RBF(oneC, gamma, X_train, y_train, X_val, y_val)\n",
    "        accuracy_s.append(tmp)\n",
    "\n"
   ]
  },
  {
   "cell_type": "markdown",
   "metadata": {},
   "source": [
    "从上述部分运行结果来看，出现了准确率为1的情况，参数不错。但是参数里没有迭代次数，不知道应该从哪个参数观察模型复杂度"
   ]
  },
  {
   "cell_type": "code",
   "execution_count": 32,
   "metadata": {},
   "outputs": [
    {
     "name": "stdout",
     "output_type": "stream",
     "text": [
      "[-2. -1.  0.  1.  2.] ^^^^ [0.69480519 0.74675325 0.80519481 0.81168831 0.81818182] ^^^^ 0.01\n",
      "[-2. -1.  0.  1.  2.] ^^^^ [0.69480519 0.82467532 0.86363636 0.91558442 0.94155844] ^^^^ 0.1\n",
      "[-2. -1.  0.  1.  2.] ^^^^ [0.69480519 0.69480519 0.98701299 1.         1.        ] ^^^^ 1.0\n",
      "[-2. -1.  0.  1.  2.] ^^^^ [0.69480519 0.69480519 1.         1.         1.        ] ^^^^ 10.0\n",
      "[-2. -1.  0.  1.  2.] ^^^^ [0.69480519 0.69480519 1.         1.         1.        ] ^^^^ 100.0\n"
     ]
    },
    {
     "data": {
      "image/png": "[encoded data removed]",
      "text/plain": [
       "<Figure size 432x288 with 1 Axes>"
      ]
     },
     "metadata": {},
     "output_type": "display_data"
    }
   ],
   "source": [
    "accuracy_s1 =np.array(accuracy_s).reshape(len(C_s),len(gamma_s))\n",
    "x_axis = np.log10(C_s)\n",
    "for j, gamma in enumerate(gamma_s):\n",
    "    pyplot.plot(x_axis, np.array(accuracy_s1[:,j]), label = ' Test - log(gamma)' + str(np.log10(gamma)))\n",
    "    print(x_axis,'^^^^', np.array(accuracy_s1[:,j]),'^^^^', gamma)\n",
    "\n",
    "pyplot.legend()\n",
    "pyplot.xlabel( 'log(C)' )                                                                                                      \n",
    "pyplot.ylabel( 'accuracy' )\n",
    "pyplot.savefig('RBF_SVM_Otto.png' )\n",
    "\n",
    "pyplot.show()"
   ]
  },
  {
   "cell_type": "markdown",
   "metadata": {},
   "source": [
    "## gamma为1.0/10/100的时候，均有C值使准确率为1。取准确率1时gamma的最小值1，然后C取1得最优解"
   ]
  },
  {
   "cell_type": "markdown",
   "metadata": {},
   "source": [
    "整体来看，SVM的复杂度最高，然后是svc，LR的复杂度相对低很多，但是准确率不高。RBF核的SVM准确率可以达到1"
   ]
  },
  {
   "cell_type": "code",
   "execution_count": null,
   "metadata": {},
   "outputs": [],
   "source": []
  }
 ],
 "metadata": {
  "kernelspec": {
   "display_name": "Python 3",
   "language": "python",
   "name": "python3"
  },
  "language_info": {
   "codemirror_mode": {
    "name": "ipython",
    "version": 3
   },
   "file_extension": ".py",
   "mimetype": "text/x-python",
   "name": "python",
   "nbconvert_exporter": "python",
   "pygments_lexer": "ipython3",
   "version": "3.6.5"
  }
 },
 "nbformat": 4,
 "nbformat_minor": 2
}
